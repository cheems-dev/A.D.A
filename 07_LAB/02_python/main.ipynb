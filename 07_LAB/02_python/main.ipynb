{
 "metadata": {
  "language_info": {
   "codemirror_mode": {
    "name": "ipython",
    "version": 3
   },
   "file_extension": ".py",
   "mimetype": "text/x-python",
   "name": "python",
   "nbconvert_exporter": "python",
   "pygments_lexer": "ipython3",
   "version": "3.9.5"
  },
  "orig_nbformat": 4,
  "kernelspec": {
   "name": "python3",
   "display_name": "Python 3.9.5 64-bit"
  },
  "interpreter": {
   "hash": "4cd7ab41f5fca4b9b44701077e38c5ffd31fe66a6cab21e0214b68d958d0e462"
  }
 },
 "nbformat": 4,
 "nbformat_minor": 2,
 "cells": [
  {
   "cell_type": "code",
   "execution_count": 1,
   "metadata": {},
   "outputs": [],
   "source": [
    "import time"
   ]
  },
  {
   "cell_type": "code",
   "execution_count": null,
   "metadata": {},
   "outputs": [],
   "source": [
    "def fibonacci_recursivo(n):\n",
    "    if n <= 1:\n",
    "        return n;\n",
    "    return fibonacci_recursivo(n - 1) + fibonacci_recursivo(n - 2)"
   ]
  },
  {
   "cell_type": "code",
   "execution_count": null,
   "metadata": {},
   "outputs": [],
   "source": [
    "print(\"i\\tfib(i)\")\n",
    "for i in range(10):\n",
    "    print(i, \"\\t\",fibonacci_recursivo(i))\n"
   ]
  },
  {
   "cell_type": "code",
   "execution_count": 16,
   "metadata": {},
   "outputs": [],
   "source": [
    "def fibonacci_iterativo(n):\n",
    "    memoizacion = []\n",
    "    memoizacion.append(0)\n",
    "    memoizacion.append(1)\n",
    "    if n < 1:\n",
    "        return 0;\n",
    "    for _ in range(1,n):\n",
    "        memoizacion.append(memoizacion[-2] + memoizacion[-1])\n",
    "       \n",
    "    return memoizacion[-1]"
   ]
  },
  {
   "cell_type": "code",
   "execution_count": null,
   "metadata": {
    "tags": []
   },
   "outputs": [],
   "source": [
    "print(\"fib(\",2**20,\"):\",fibonacci_iterativo(2**20))"
   ]
  },
  {
   "cell_type": "code",
   "execution_count": 17,
   "metadata": {},
   "outputs": [
    {
     "output_type": "stream",
     "name": "stdout",
     "text": [
      "fib( 0 ): 0\nfib( 1 ): 1\nfib( 2 ): 1\nfib( 3 ): 2\nfib( 4 ): 3\nfib( 5 ): 5\nfib( 6 ): 8\nfib( 7 ): 13\nfib( 8 ): 21\nfib( 9 ): 34\n"
     ]
    }
   ],
   "source": [
    "for i in range(10):\n",
    "    print(\"fib(\",i,\"):\",fibonacci_iterativo(i))"
   ]
  },
  {
   "cell_type": "code",
   "execution_count": null,
   "metadata": {},
   "outputs": [],
   "source": []
  }
 ]
}